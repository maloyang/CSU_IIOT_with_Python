{
 "cells": [
  {
   "cell_type": "markdown",
   "metadata": {},
   "source": [
    "## Modbus 的基礎說明\n",
    "\n",
    "- 英文版wiki寫的較詳細： https://en.wikipedia.org/wiki/Modbus\n",
    "- 分類：\n",
    "    - Modbus/RTU: 在RS-485, RS-232這類的串列通訊上使用\n",
    "    - Modbus/TCP: 基於TCP的Modbus協定，因此只要是走網路的大致上都可以適用\n",
    "    - modbus ascii: 這類似於Modbus/RTU，但通訊資料量較大\n",
    "- 一個Master vs 多個slave\n",
    "- 一問一答的通訊方式\n",
    "- 若對通訊格式有興趣可以參考：\n",
    "    - https://www.rtaautomation.com/technologies/modbus-tcpip/\n"
   ]
  },
  {
   "cell_type": "markdown",
   "metadata": {},
   "source": [
    "## Demo\n",
    "- mb_demo1: 配合FATEK PLC進行通訊控制，在此demo中將對PLC的DO進行控制：OFF-->ON-->OFF-->ON-->OFF\n",
    "- mb_demo2: 配合FATEK PLC進行通訊控制，在此demo中將會讀回PLC的DI，當接上的磁簧開關是ON時會讀回1；磁簧開關斷開時會讀回0\n",
    "- mb_demo3: 配合電表，讀回輸入的交流電電壓"
   ]
  },
  {
   "cell_type": "markdown",
   "metadata": {},
   "source": [
    "### 開始前需要先安裝的套件\n",
    "\n",
    "- modbus_tk 支援 Modbus/TCP, Modbus/RTU\n",
    "- 其中Modbus/RTU需要serial的套件，因此要自行另外安裝\n",
    "    - pip install serial\n",
    "    - pip install modbus_tk\n"
   ]
  },
  {
   "cell_type": "markdown",
   "metadata": {},
   "source": [
    "### Demo1 : PLC DO控制"
   ]
  },
  {
   "cell_type": "code",
   "execution_count": 2,
   "metadata": {
    "collapsed": true
   },
   "outputs": [],
   "source": [
    "import serial\n",
    "import modbus_tk\n",
    "import modbus_tk.defines as cst\n",
    "import modbus_tk.modbus_rtu as modbus_rtu\n",
    "import time\n"
   ]
  },
  {
   "cell_type": "code",
   "execution_count": 3,
   "metadata": {
    "collapsed": true
   },
   "outputs": [],
   "source": [
    "mbComPort = 'COM7'   # your RS-485 port. for linux --> \"/dev/ttyUSB2\"\n",
    "baudrate = 9600\n",
    "databit = 8 #7, 8\n",
    "parity = 'N' #N, O, E\n",
    "stopbit = 1 #1, 2\n",
    "mbTimeout = 100 # ms\n"
   ]
  },
  {
   "cell_type": "code",
   "execution_count": 5,
   "metadata": {},
   "outputs": [
    {
     "name": "stdout",
     "output_type": "stream",
     "text": [
      "Write(addr, value)= (2, 0)\n",
      "Write(addr, value)= (2, 65280)\n",
      "Write(addr, value)= (2, 0)\n",
      "Write(addr, value)= (2, 65280)\n",
      "Write(addr, value)= (2, 0)\n"
     ]
    },
    {
     "data": {
      "text/plain": [
       "True"
      ]
     },
     "execution_count": 5,
     "metadata": {},
     "output_type": "execute_result"
    }
   ],
   "source": [
    "\n",
    "mb_port = serial.Serial(port=mbComPort, baudrate=baudrate, bytesize=databit, parity=parity, stopbits=stopbit)\n",
    "master = modbus_rtu.RtuMaster(mb_port)\n",
    "master.set_timeout(mbTimeout/1000.0)\n",
    "\n",
    "mbId = 1\n",
    "addr = 2 #base0 --> my 110V Led燈泡\n",
    "\n",
    "for i in range(5):\n",
    "    try:\n",
    "        value = i%2\n",
    "        #-- FC5: write multi-coils\n",
    "        rr = master.execute(mbId, cst.WRITE_SINGLE_COIL, addr, output_value=value)\n",
    "        print(\"Write(addr, value)=\",  rr)\n",
    "\n",
    "    except Exception as e:\n",
    "        print(\"modbus test Error: \" + str(e))\n",
    "\n",
    "    time.sleep(2)\n",
    "\n",
    "master._do_close()\n"
   ]
  },
  {
   "cell_type": "markdown",
   "metadata": {},
   "source": [
    "### Demo2: PLC DI點讀取\n",
    "- 範例中，第二個DI是ON，因此讀回來為1"
   ]
  },
  {
   "cell_type": "code",
   "execution_count": 6,
   "metadata": {
    "collapsed": true
   },
   "outputs": [],
   "source": [
    "import serial\n",
    "import modbus_tk\n",
    "import modbus_tk.defines as cst\n",
    "import modbus_tk.modbus_rtu as modbus_rtu\n",
    "import time"
   ]
  },
  {
   "cell_type": "code",
   "execution_count": 10,
   "metadata": {
    "collapsed": true
   },
   "outputs": [],
   "source": [
    "mbComPort = 'COM7'\n",
    "baudrate = 9600\n",
    "databit = 8\n",
    "parity = 'N'\n",
    "stopbit = 1\n",
    "mbTimeout = 100 # ms"
   ]
  },
  {
   "cell_type": "code",
   "execution_count": 12,
   "metadata": {},
   "outputs": [
    {
     "name": "stdout",
     "output_type": "stream",
     "text": [
      "value=  (0, 1, 0, 0)\n",
      "value=  (0, 1, 0, 0)\n",
      "value=  (0, 1, 0, 0)\n",
      "value=  (0, 1, 0, 0)\n",
      "value=  (0, 1, 0, 0)\n"
     ]
    },
    {
     "data": {
      "text/plain": [
       "True"
      ]
     },
     "execution_count": 12,
     "metadata": {},
     "output_type": "execute_result"
    }
   ],
   "source": [
    "mb_port = serial.Serial(port=mbComPort, baudrate=baudrate, bytesize=databit, parity=parity, stopbits=stopbit)\n",
    "master = modbus_rtu.RtuMaster(mb_port)\n",
    "master.set_timeout(mbTimeout/1000.0)\n",
    "\n",
    "mbId = 1\n",
    "addr = 1000 #base0\n",
    "\n",
    "for i in range(5):\n",
    "    try:\n",
    "        # FATEK的PLC把DI點放在DO的address中\n",
    "        #-- FC01: Read multi-coils status (0xxxx) for DO\n",
    "        rr = master.execute(mbId, cst.READ_COILS, addr, 4)\n",
    "        print(\"value= \",  rr)\n",
    "\n",
    "    except Exception as e:\n",
    "        print(\"modbus test Error: \" + str(e))\n",
    "\n",
    "    time.sleep(1)\n",
    "\n",
    "master._do_close()\n"
   ]
  },
  {
   "cell_type": "markdown",
   "metadata": {},
   "source": [
    "### Demo3: 電表電壓資訊讀取"
   ]
  },
  {
   "cell_type": "code",
   "execution_count": 13,
   "metadata": {
    "collapsed": true
   },
   "outputs": [],
   "source": [
    "import serial\n",
    "import modbus_tk\n",
    "import modbus_tk.defines as cst\n",
    "import modbus_tk.modbus_rtu as modbus_rtu\n",
    "import time\n",
    "from struct import *"
   ]
  },
  {
   "cell_type": "code",
   "execution_count": 19,
   "metadata": {
    "collapsed": true
   },
   "outputs": [],
   "source": [
    "mbComPort = 'COM7' #your RS-485 port\n",
    "baudrate = 19200\n",
    "databit = 8\n",
    "parity = 'N'\n",
    "stopbit = 1\n",
    "mbTimeout = 100 # ms"
   ]
  },
  {
   "cell_type": "code",
   "execution_count": 39,
   "metadata": {},
   "outputs": [
    {
     "name": "stdout",
     "output_type": "stream",
     "text": [
      "read value: (27533, 17112, 0, 0)\n",
      "v_a= (108.2100601196289,)\n"
     ]
    },
    {
     "data": {
      "text/plain": [
       "True"
      ]
     },
     "execution_count": 39,
     "metadata": {},
     "output_type": "execute_result"
    }
   ],
   "source": [
    "mb_port = serial.Serial(port=mbComPort, baudrate=baudrate, bytesize=databit, parity=parity, stopbits=stopbit)\n",
    "master = modbus_rtu.RtuMaster(mb_port)\n",
    "master.set_timeout(mbTimeout/1000.0)\n",
    "\n",
    "mbId = 4\n",
    "#[0x1000-0x1001]=VIn_a\n",
    "addr = 0x1000#4096\n",
    "\n",
    "try:\n",
    "    # FC3\n",
    "    rr = master.execute(mbId, cst.READ_INPUT_REGISTERS, addr, 4)\n",
    "    print('read value:', rr)\n",
    "\n",
    "    # convert to float:\n",
    "    # IEEE754 ==> (Hi word Hi Bite, Hi word Lo Byte, Lo word Hi Byte, Lo word Lo Byte)\n",
    "    try:\n",
    "        v_a_hi = rr[1]\n",
    "        v_a_lo = rr[0]\n",
    "        v_a = unpack('>f', pack('>HH', v_a_hi, v_a_lo))\n",
    "        print('v_a=', v_a)\n",
    "        #struct.unpack(\">f\",'\\x42\\xd8\\x6b\\x8d')\n",
    "    except Exception as e:\n",
    "        print(e)\n",
    "\n",
    "except Exception as e:\n",
    "    print(\"modbus test Error: \" + str(e))\n",
    "\n",
    "\n",
    "master._do_close()\n"
   ]
  },
  {
   "cell_type": "markdown",
   "metadata": {},
   "source": [
    "### 補充資料\n",
    "### 掃Modbus設備 --> 用於不知道設備的baudrate等參數時\n",
    "\n",
    "- 以下例的結果來說，代表這19200 8N1這個參數下是有回應的，代表可以如此通訊：\n",
    "\n",
    "scan @ 19200 N 1\n",
    "rr: (2,)"
   ]
  },
  {
   "cell_type": "code",
   "execution_count": 41,
   "metadata": {},
   "outputs": [
    {
     "name": "stdout",
     "output_type": "stream",
     "text": [
      "scan @ 9600 N 1\n",
      "modbus test Error: Response length is invalid 0\n",
      "scan @ 9600 N 2\n",
      "modbus test Error: Response length is invalid 0\n",
      "scan @ 9600 O 1\n",
      "modbus test Error: Response length is invalid 0\n",
      "scan @ 9600 O 2\n",
      "modbus test Error: Response length is invalid 0\n",
      "scan @ 9600 E 1\n",
      "modbus test Error: Response length is invalid 0\n",
      "scan @ 9600 E 2\n",
      "modbus test Error: Response length is invalid 0\n",
      "scan @ 19200 N 1\n",
      "rr: (2,)\n",
      "scan @ 19200 N 2\n",
      "rr: (2,)\n",
      "scan @ 19200 O 1\n",
      "modbus test Error: Invalid CRC in response\n",
      "scan @ 19200 O 2\n",
      "modbus test Error: Invalid CRC in response\n",
      "scan @ 19200 E 1\n",
      "modbus test Error: Invalid CRC in response\n",
      "scan @ 19200 E 2\n",
      "modbus test Error: Invalid CRC in response\n",
      "scan @ 38400 N 1\n",
      "modbus test Error: Response length is invalid 0\n",
      "scan @ 38400 N 2\n",
      "modbus test Error: Response length is invalid 0\n",
      "scan @ 38400 O 1\n",
      "modbus test Error: Response length is invalid 0\n",
      "scan @ 38400 O 2\n",
      "modbus test Error: Response length is invalid 0\n",
      "scan @ 38400 E 1\n",
      "modbus test Error: Response length is invalid 0\n",
      "scan @ 38400 E 2\n",
      "modbus test Error: Response length is invalid 0\n",
      "scan @ 115200 N 1\n",
      "modbus test Error: Response length is invalid 0\n",
      "scan @ 115200 N 2\n",
      "modbus test Error: Response length is invalid 0\n",
      "scan @ 115200 O 1\n",
      "modbus test Error: Response length is invalid 0\n",
      "scan @ 115200 O 2\n",
      "modbus test Error: Response length is invalid 0\n",
      "scan @ 115200 E 1\n",
      "modbus test Error: Response length is invalid 0\n",
      "scan @ 115200 E 2\n",
      "modbus test Error: Response length is invalid 0\n"
     ]
    }
   ],
   "source": [
    "import serial\n",
    "import modbus_tk\n",
    "import modbus_tk.defines as cst\n",
    "import modbus_tk.modbus_rtu as modbus_rtu\n",
    "\n",
    "\n",
    "mbComPort = 'COM7'\n",
    "baudrate = 38400\n",
    "databit = 8\n",
    "parity = 'N'\n",
    "stopbit = 1\n",
    "mbTimeout = 100 # ms\n",
    "\n",
    "# scan_test:\n",
    "for baudrate in [9600, 19200, 38400, 115200]:\n",
    "    for parity in ['N', 'O', 'E']:\n",
    "        for stopbit in[1, 2]:\n",
    "            print('scan @', baudrate, parity, stopbit)\n",
    "            mb_port = serial.Serial(port=mbComPort, baudrate=baudrate, bytesize=databit, parity=parity, stopbits=stopbit)\n",
    "            master = modbus_rtu.RtuMaster(mb_port)\n",
    "            master.set_timeout(mbTimeout/1000.0)\n",
    "\n",
    "            mbId = 1\n",
    "            addr = 1\n",
    "\n",
    "            try:\n",
    "                # FC3\n",
    "                rr = master.execute(mbId, cst.READ_HOLDING_REGISTERS, addr, 1)\n",
    "                print('rr:', rr)\n",
    "\n",
    "            except Exception as e:\n",
    "                print(\"modbus test Error: \" + str(e))\n",
    "\n",
    "            master._do_close()\n"
   ]
  },
  {
   "cell_type": "code",
   "execution_count": 8,
   "metadata": {
    "scrolled": true
   },
   "outputs": [
    {
     "name": "stdout",
     "output_type": "stream",
     "text": [
      "scan @ 9600 8 N 1\n",
      "modbus test Error: Response length is invalid 0\n"
     ]
    },
    {
     "data": {
      "text/plain": [
       "True"
      ]
     },
     "execution_count": 8,
     "metadata": {},
     "output_type": "execute_result"
    }
   ],
   "source": [
    "import serial\n",
    "import modbus_tk\n",
    "import modbus_tk.defines as cst\n",
    "import modbus_tk.modbus_rtu as modbus_rtu\n",
    "\n",
    "\n",
    "mbComPort = 'COM22'\n",
    "baudrate = 9600\n",
    "databit = 8\n",
    "parity = 'N'\n",
    "stopbit = 1\n",
    "mbTimeout = 200 # ms\n",
    "\n",
    "# scan_test:\n",
    "print('scan @', baudrate, databit, parity, stopbit)\n",
    "mb_port = serial.Serial(port=mbComPort, baudrate=baudrate, bytesize=databit, parity=parity, stopbits=stopbit)\n",
    "master = modbus_rtu.RtuMaster(mb_port)\n",
    "master.set_timeout(mbTimeout/1000.0)\n",
    "\n",
    "mbId = 3\n",
    "addr = 0\n",
    "\n",
    "try:\n",
    "    # FC3\n",
    "    rr = master.execute(mbId, cst.READ_INPUT_REGISTERS, addr, 6)\n",
    "    print('rr:', rr)\n",
    "\n",
    "except Exception as e:\n",
    "    print(\"modbus test Error: \" + str(e))\n",
    "\n",
    "master._do_close()\n"
   ]
  },
  {
   "cell_type": "markdown",
   "metadata": {},
   "source": [
    "### other example for reading DI, DO, AI, AO (補充教材)"
   ]
  },
  {
   "cell_type": "code",
   "execution_count": null,
   "metadata": {
    "collapsed": true
   },
   "outputs": [],
   "source": [
    "## other example for reading DI, DO, AI, AO\n",
    "\n",
    "addr = 1\n",
    "n = 4\n",
    "\n",
    "#-- DI read: FC2  Read multi-input discrete ( 1xxxx )\n",
    "rr = master.execute(mbId, cst.READ_DISCRETE_INPUTS, addr, n)\n",
    "print(\"DI value= \", rr)\n",
    "\n",
    "#-- FC01: Read multi-coils status (0xxxx) for DO\n",
    "rr = master.execute(mbId, cst.READ_COILS, addr, n)\n",
    "print(\"DO value= \",  rr)\n",
    "\n",
    "#-- FC04: read multi-input registers (3xxxx), for AI\n",
    "rr = master.execute(mbId, cst.READ_INPUT_REGISTERS, addr, n)\n",
    "print(\"AI value= \", rr)\n",
    "\n",
    "#-- FC03: read multi-registers (4xxxx) for AO\n",
    "rr = master.execute(mbId, cst.READ_HOLDING_REGISTERS, addr, n)\n",
    "print(\"AO value= \", rr)\n",
    "\n"
   ]
  },
  {
   "cell_type": "code",
   "execution_count": 14,
   "metadata": {
    "collapsed": true
   },
   "outputs": [],
   "source": [
    "import serial\n",
    "import modbus_tk\n",
    "import modbus_tk.defines as cst\n",
    "import modbus_tk.modbus_rtu as modbus_rtu\n",
    "import time\n",
    "from struct import *"
   ]
  },
  {
   "cell_type": "code",
   "execution_count": 15,
   "metadata": {
    "collapsed": true
   },
   "outputs": [],
   "source": [
    "mbComPort = 'COM7' #your RS-485 port\n",
    "baudrate = 115200\n",
    "databit = 8\n",
    "parity = 'N'\n",
    "stopbit = 1\n",
    "mbTimeout = 100 # ms"
   ]
  },
  {
   "cell_type": "code",
   "execution_count": 19,
   "metadata": {},
   "outputs": [
    {
     "name": "stdout",
     "output_type": "stream",
     "text": [
      "modbus test Error: Response length is invalid 0\n"
     ]
    },
    {
     "data": {
      "text/plain": [
       "True"
      ]
     },
     "execution_count": 19,
     "metadata": {},
     "output_type": "execute_result"
    }
   ],
   "source": [
    "#for i in range(10):\n",
    "\n",
    "mb_port = serial.Serial(port=mbComPort, baudrate=baudrate, bytesize=databit, parity=parity, stopbits=stopbit)\n",
    "master = modbus_rtu.RtuMaster(mb_port)\n",
    "master.set_timeout(mbTimeout/1000.0)\n",
    "\n",
    "mbId = 1\n",
    "#[0x1000-0x1001]=VIn_a\n",
    "addr = 0\n",
    "\n",
    "try:\n",
    "    # FC3\n",
    "    rr = master.execute(mbId, cst.READ_INPUT_REGISTERS, addr, 4)\n",
    "    print('read value:', rr)\n",
    "\n",
    "except Exception as e:\n",
    "    print(\"modbus test Error: \" + str(e))\n",
    "\n",
    "\n",
    "master._do_close()\n"
   ]
  },
  {
   "cell_type": "code",
   "execution_count": null,
   "metadata": {
    "collapsed": true
   },
   "outputs": [],
   "source": []
  }
 ],
 "metadata": {
  "kernelspec": {
   "display_name": "Python 3",
   "language": "python",
   "name": "python3"
  },
  "language_info": {
   "codemirror_mode": {
    "name": "ipython",
    "version": 3
   },
   "file_extension": ".py",
   "mimetype": "text/x-python",
   "name": "python",
   "nbconvert_exporter": "python",
   "pygments_lexer": "ipython3",
   "version": "3.6.5"
  }
 },
 "nbformat": 4,
 "nbformat_minor": 2
}

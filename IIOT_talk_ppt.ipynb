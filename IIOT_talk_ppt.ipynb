{
 "cells": [
  {
   "cell_type": "code",
   "execution_count": null,
   "metadata": {},
   "outputs": [],
   "source": []
  },
  {
   "cell_type": "markdown",
   "metadata": {
    "slideshow": {
     "slide_type": "slide"
    }
   },
   "source": [
    "# Agenda\n",
    "\n",
    "- 工廠監控\n",
    "\n",
    "    - 今天的主軸：如何在Raspberry Pi上使用python和PLC、電表溝通, 並把資料送上雲端\n",
    "\n",
    "- Modbus\n",
    "    - 何謂Modbus?\n",
    "    - modbus格式介紹\n",
    "    - modbus常被採用的原因\n",
    "        \n",
    "- Modbus套件\n",
    "    - 可用的套件\n",
    "    - 安裝\n",
    "    - 操作\n",
    "\n",
    "- PLC\n",
    "    - 何謂PLC\n",
    "    - 如何通訊、控制\n",
    "    - 來看看PLC的Modbus點表\n",
    "    - Live Demo\n",
    "\n",
    "- Power Meter\n",
    "    - 何謂power meter\n",
    "    - 來看看Power Meter的點表\n",
    "    - Live Demo\n",
    "    \n",
    "- MQTT - 即時性應用\n",
    "    - Mosquitto\n",
    "    - paho\n",
    "    \n",
    "- The End!?\n",
    " \n",
    "- Q&A\n",
    "\n",
    "----\n"
   ]
  },
  {
   "cell_type": "markdown",
   "metadata": {
    "slideshow": {
     "slide_type": "slide"
    }
   },
   "source": [
    "## 工廠監控\n",
    "\n",
    "----\n"
   ]
  },
  {
   "cell_type": "markdown",
   "metadata": {},
   "source": [
    "### 今天的主軸：如何使用python和PLC、電表、逆變器溝通, 並把資料送上雲端\n",
    "\n",
    "- 範例可以在windows、Linux、Raspberry pi、BeagleBone Black上執行\n",
    "    \n",
    "- ![PLC_Meter](image/plc_meter.png)"
   ]
  },
  {
   "cell_type": "markdown",
   "metadata": {},
   "source": [
    "## Live Demo\n",
    "\n",
    "先來看看我們使用Python可以達到的效果\n",
    "\n",
    "- Python + PLC + Power Meter + MQTT + Linear MQTT Dashboard\n",
    "\n",
    "![mqtt](image/mqtt.png)"
   ]
  },
  {
   "cell_type": "markdown",
   "metadata": {},
   "source": [
    "----\n",
    "\n",
    "## 工廠監控的現況\n",
    "\n",
    "先看看業界現在怎麼做…\n",
    "\n",
    "----"
   ]
  },
  {
   "cell_type": "markdown",
   "metadata": {},
   "source": [
    "\n",
    "### 很常見的方式\n",
    "\n",
    "- SCADA + HMI + PLC + IO module\n",
    "\n",
    "- PLC + SCADA\n"
   ]
  },
  {
   "cell_type": "markdown",
   "metadata": {},
   "source": [
    "### 系統小一點的話\n",
    "\n",
    "- HMI + PLC + IO module\n",
    "\n"
   ]
  },
  {
   "cell_type": "markdown",
   "metadata": {},
   "source": [
    "\n",
    "### 喜歡自已來!?\n",
    "\n",
    "- 當然是自己開發囉! VB.Net, C#, C 各種語言不拘!"
   ]
  },
  {
   "cell_type": "markdown",
   "metadata": {},
   "source": [
    "\n",
    "### 為何SCADA這麼常出現?\n",
    "\n",
    "- 因為工業控制需要快速又穩定的RAD工具，讓每個人都能做出一定水準之上的系統\n",
    "\n",
    "![Scada_std_anim_no_lang](image/Scada_std_anim_no_lang.gif)\n"
   ]
  },
  {
   "cell_type": "markdown",
   "metadata": {},
   "source": [
    "----\n",
    "\n",
    "## Modbus\n",
    "\n",
    "一個工業控制一定不能錯過的協定\n",
    "\n",
    "----\n"
   ]
  },
  {
   "cell_type": "markdown",
   "metadata": {},
   "source": [
    "### 何謂 Modbus?\n",
    "\n",
    "一種工業控制中很常用的通訊協定\n",
    "\n",
    "- [維基百科怎麼說](https://zh.wikipedia.org/wiki/Modbus)?\n",
    "\n",
    "- 為何介紹Modbus\n",
    "\n",
    "![協定文字雲](image/protocol_cloud.png)\n",
    "       "
   ]
  },
  {
   "cell_type": "markdown",
   "metadata": {},
   "source": [
    "### modbus格式介紹 \n",
    "\n",
    "[參考](http://gridconnect.com/blog/tag/modbus-rtu/)\n",
    "\n",
    "- Modbus/RTU: [start time] [Address 8bits + Function 8bits + Data Nx8bits + CRC 16bits] [End time]\n",
    "\n",
    "- Modbus/TCP: [header 6byte + Address 8bits + Function 8bits + Data Nx8bits]\n",
    "\n",
    "- Modbus/ASCII: 現在比較少人用，跳過不講\n",
    "\n",
    "![格式](image/MODBUS-Frame.png)\n",
    "        \n"
   ]
  },
  {
   "cell_type": "markdown",
   "metadata": {},
   "source": [
    "### modbus常被採用的原因\n",
    "        \n",
    "- 公開發表並且無版稅要求\n",
    "\n",
    "- 相對容易的工業網路部署\n",
    "\n",
    "- 協定格式簡單，極省資源\n"
   ]
  },
  {
   "cell_type": "markdown",
   "metadata": {},
   "source": [
    "----\n",
    "\n",
    "## Modbus套件\n",
    "\n",
    "----\n"
   ]
  },
  {
   "cell_type": "markdown",
   "metadata": {},
   "source": [
    "\n",
    "### 網路上較多人提到的三個套件\n",
    "\n",
    "[performance比較](https://stackoverflow.com/questions/17081442/python-modbus-library)\n",
    "\n",
    "- modbus-tk: Modbus/RTU, Modbus/TCP\n",
    "\n",
    "- pymodbus: 據說實作最完整，但使用資源相對的多，相依套件也多\n",
    "\n",
    "- MinimalModbus: Modbus/RTU, Modbus/ASCII\n",
    "\n"
   ]
  },
  {
   "cell_type": "markdown",
   "metadata": {},
   "source": [
    "### Modbus-tk\n",
    "\n",
    "個人推薦使用\n",
    "\n",
    "- 安裝方式\n",
    "    - pip install serial\n",
    "    - pip install modbus_tk\n",
    "\n",
    "- 操作\n",
    "    - [Python與PLC共舞](https://github.com/maloyang/PLC-Python)\n",
    "     "
   ]
  },
  {
   "cell_type": "markdown",
   "metadata": {},
   "source": [
    "----\n",
    "\n",
    "## PLC\n",
    "\n",
    "工業控制常用的元素，[看看wiki怎麼說](https://zh.wikipedia.org/wiki/%E5%8F%AF%E7%BC%96%E7%A8%8B%E9%80%BB%E8%BE%91%E6%8E%A7%E5%88%B6%E5%99%A8)\n",
    "\n",
    "----\n"
   ]
  },
  {
   "cell_type": "markdown",
   "metadata": {},
   "source": [
    "\n",
    "### 通訊方式\n",
    "\n",
    "- 自有協定\n",
    "\n",
    "- <h3>Modbus</h3>\n",
    "\n",
    "- CAN\n",
    "\n",
    "- ...etc\n"
   ]
  },
  {
   "cell_type": "markdown",
   "metadata": {},
   "source": [
    "### PLC的Modbus點表\n",
    "\n",
    "![PLC點表](image/fatek_modbus_addr.png)\n",
    "\n",
    "- [Live Demo](Modbus.ipynb)"
   ]
  },
  {
   "cell_type": "code",
   "execution_count": 1,
   "metadata": {},
   "outputs": [],
   "source": [
    "import serial\n",
    "import modbus_tk\n",
    "import modbus_tk.defines as cst\n",
    "import modbus_tk.modbus_rtu as modbus_rtu\n",
    "import time\n"
   ]
  },
  {
   "cell_type": "code",
   "execution_count": 2,
   "metadata": {},
   "outputs": [],
   "source": [
    "mbComPort = \"COM8\"   # your RS-485 port. for linux --> \"/dev/ttyUSB0\"\n",
    "baudrate = 9600\n",
    "databit = 8 #7, 8\n",
    "parity = 'N' #N, O, E\n",
    "stopbit = 1 #1, 2\n",
    "mbTimeout = 100 # ms\n"
   ]
  },
  {
   "cell_type": "code",
   "execution_count": 3,
   "metadata": {},
   "outputs": [
    {
     "name": "stdout",
     "output_type": "stream",
     "text": [
      "Write(addr, value)= (2, 0)\n",
      "Write(addr, value)= (2, 65280)\n",
      "Write(addr, value)= (2, 0)\n",
      "Write(addr, value)= (2, 65280)\n",
      "Write(addr, value)= (2, 0)\n"
     ]
    },
    {
     "data": {
      "text/plain": [
       "True"
      ]
     },
     "execution_count": 3,
     "metadata": {},
     "output_type": "execute_result"
    }
   ],
   "source": [
    "\n",
    "mb_port = serial.Serial(port=mbComPort, baudrate=baudrate, bytesize=databit, parity=parity, stopbits=stopbit)\n",
    "master = modbus_rtu.RtuMaster(mb_port)\n",
    "master.set_timeout(mbTimeout/1000.0)\n",
    "\n",
    "mbId = 1\n",
    "addr = 2 #base0 --> my 110V Led燈泡\n",
    "\n",
    "for i in range(5):\n",
    "    try:\n",
    "        value = i%2\n",
    "        #-- FC5: write multi-coils\n",
    "        rr = master.execute(mbId, cst.WRITE_SINGLE_COIL, addr, output_value=value)\n",
    "        print(\"Write(addr, value)=\",  rr)\n",
    "\n",
    "    except Exception as e:\n",
    "        print(\"modbus test Error: \" + str(e))\n",
    "\n",
    "    time.sleep(2)\n",
    "\n",
    "master._do_close()\n"
   ]
  },
  {
   "cell_type": "markdown",
   "metadata": {},
   "source": [
    "----\n",
    "\n",
    "## Power Meter\n",
    "\n",
    "電力監控常見的元素\n",
    "\n",
    "----\n"
   ]
  },
  {
   "cell_type": "markdown",
   "metadata": {},
   "source": [
    "\n",
    "### Power Meter的點表\n",
    "\n",
    "![Power Meter的點表](image/power_meter.gif)\n",
    "\n"
   ]
  },
  {
   "cell_type": "markdown",
   "metadata": {},
   "source": [
    "### Power Meter的浮點數表示方式\n",
    "\n",
    "![浮點數](image/power_meter_float.gif)\n",
    "\n",
    "----\n",
    "![float](image/mb_float.png)\n",
    "- [Live Demo](Modbus.ipynb)\n"
   ]
  },
  {
   "cell_type": "code",
   "execution_count": 4,
   "metadata": {},
   "outputs": [],
   "source": [
    "import serial\n",
    "import modbus_tk\n",
    "import modbus_tk.defines as cst\n",
    "import modbus_tk.modbus_rtu as modbus_rtu\n",
    "import time\n",
    "from struct import *"
   ]
  },
  {
   "cell_type": "code",
   "execution_count": 5,
   "metadata": {},
   "outputs": [],
   "source": [
    "mbComPort = 'COM8' #your RS-485 port #'/dev/ttyUSB0' for linux(RPi3)\n",
    "baudrate = 9600\n",
    "databit = 8\n",
    "parity = 'N'\n",
    "stopbit = 1\n",
    "mbTimeout = 100 # ms"
   ]
  },
  {
   "cell_type": "code",
   "execution_count": 6,
   "metadata": {
    "scrolled": true
   },
   "outputs": [
    {
     "name": "stdout",
     "output_type": "stream",
     "text": [
      "read value: (39507, 17124)\n",
      "v_a= (114.3014144897461,)\n"
     ]
    },
    {
     "data": {
      "text/plain": [
       "True"
      ]
     },
     "execution_count": 6,
     "metadata": {},
     "output_type": "execute_result"
    }
   ],
   "source": [
    "mb_port = serial.Serial(port=mbComPort, baudrate=baudrate, bytesize=databit, parity=parity, stopbits=stopbit)\n",
    "master = modbus_rtu.RtuMaster(mb_port)\n",
    "master.set_timeout(mbTimeout/1000.0)\n",
    "\n",
    "mbId = 4\n",
    "addr = 0x1000 # power-meter is base 0\n",
    "# notice: meter not support FC6, only FC16\n",
    "\n",
    "try:\n",
    "    # FC3\n",
    "    rr = master.execute(mbId, cst.READ_INPUT_REGISTERS, addr, 2)\n",
    "    print('read value:', rr)\n",
    "\n",
    "    # convert to float:\n",
    "    # IEEE754 ==> (Hi word Hi Bite, Hi word Lo Byte, Lo word Hi Byte, Lo word Lo Byte)\n",
    "    try:\n",
    "        v_a_hi = rr[1]\n",
    "        v_a_lo = rr[0]\n",
    "        v_a = unpack('>f', pack('>HH', v_a_hi, v_a_lo))\n",
    "        print('v_a=', v_a)\n",
    "        #struct.unpack(\">f\",'\\x42\\xd8\\x6b\\x8d')\n",
    "    except Exception as e:\n",
    "        print(e)\n",
    "\n",
    "except Exception as e:\n",
    "    print(\"modbus test Error: \" + str(e))\n",
    "\n",
    "\n",
    "master._do_close()\n"
   ]
  },
  {
   "cell_type": "markdown",
   "metadata": {},
   "source": [
    "### 讀回電錶的功率"
   ]
  },
  {
   "cell_type": "code",
   "execution_count": 7,
   "metadata": {
    "scrolled": true
   },
   "outputs": [
    {
     "name": "stdout",
     "output_type": "stream",
     "text": [
      "read value: (3077, 18333)\n",
      "kWh= (80408.0390625,)\n"
     ]
    },
    {
     "data": {
      "text/plain": [
       "True"
      ]
     },
     "execution_count": 7,
     "metadata": {},
     "output_type": "execute_result"
    }
   ],
   "source": [
    "mb_port = serial.Serial(port=mbComPort, baudrate=baudrate, bytesize=databit, parity=parity, stopbits=stopbit)\n",
    "master = modbus_rtu.RtuMaster(mb_port)\n",
    "master.set_timeout(mbTimeout/1000.0)\n",
    "\n",
    "mbId = 4\n",
    "addr = 0x1034 #kWh\n",
    "\n",
    "try:\n",
    "    # FC3\n",
    "    rr = master.execute(mbId, cst.READ_INPUT_REGISTERS, addr, 2)\n",
    "    print('read value:', rr)\n",
    "\n",
    "    # convert to float:\n",
    "    # IEEE754 ==> (Hi word Hi Bite, Hi word Lo Byte, Lo word Hi Byte, Lo word Lo Byte)\n",
    "    try:\n",
    "        hi = rr[1]\n",
    "        lo = rr[0]\n",
    "        kwh = unpack('>f', pack('>HH', hi, lo))\n",
    "        print('kWh=', kwh)\n",
    "    except Exception as e:\n",
    "        print(e)\n",
    "\n",
    "except Exception as e:\n",
    "    print(\"modbus test Error: \" + str(e))\n",
    "\n",
    "\n",
    "master._do_close()\n"
   ]
  },
  {
   "cell_type": "markdown",
   "metadata": {},
   "source": [
    "### 多個參數一起讀: Vin_a, VIn_avg, freq."
   ]
  },
  {
   "cell_type": "code",
   "execution_count": 8,
   "metadata": {},
   "outputs": [
    {
     "name": "stdout",
     "output_type": "stream",
     "text": [
      "read value: (10639, 17125, 0, 0, 0, 0, 10639, 17125, 0, 0, 0, 0, 0, 0, 0, 0, 0, 0, 0, 0, 0, 0, 0, 0, 24794, 17008)\n",
      "v_a= (114.58116912841797,)\n",
      "v_avg= (114.58116912841797,)\n",
      "Frequency= (60.094581604003906,)\n"
     ]
    },
    {
     "data": {
      "text/plain": [
       "True"
      ]
     },
     "execution_count": 8,
     "metadata": {},
     "output_type": "execute_result"
    }
   ],
   "source": [
    "mb_port = serial.Serial(port=mbComPort, baudrate=baudrate, bytesize=databit, parity=parity, stopbits=stopbit)\n",
    "master = modbus_rtu.RtuMaster(mb_port)\n",
    "master.set_timeout(mbTimeout/1000.0)\n",
    "\n",
    "mbId = 4\n",
    "#[0x1000-0x1001]=VIn_a\n",
    "addr = 0x1000#4096\n",
    "\n",
    "try:\n",
    "    # FC3\n",
    "    rr = master.execute(mbId, cst.READ_INPUT_REGISTERS, addr, 26)\n",
    "    print('read value:', rr)\n",
    "\n",
    "    # convert to float:\n",
    "    # IEEE754 ==> (Hi word Hi Bite, Hi word Lo Byte, Lo word Hi Byte, Lo word Lo Byte)\n",
    "    try:\n",
    "        # VIn_a\n",
    "        v_a_hi = rr[1]\n",
    "        v_a_lo = rr[0]\n",
    "        v_a = unpack('>f', pack('>HH', v_a_hi, v_a_lo))\n",
    "        print('v_a=', v_a)\n",
    "        #struct.unpack(\">f\",'\\x42\\xd8\\x6b\\x8d')\n",
    "        \n",
    "        # VIn_avg\n",
    "        v_hi = rr[7]\n",
    "        v_lo = rr[6]\n",
    "        v_avg = unpack('>f', pack('>HH', v_hi, v_lo))\n",
    "        print('v_avg=', v_avg)\n",
    "        \n",
    "        # Frequency\n",
    "        freq_hi = rr[25]\n",
    "        freq_lo = rr[24]\n",
    "        freq = unpack('>f', pack('>HH', freq_hi, freq_lo))\n",
    "        print('Frequency=', freq)\n",
    "        \n",
    "    except Exception as e:\n",
    "        print(e)\n",
    "\n",
    "except Exception as e:\n",
    "    print(\"modbus test Error: \" + str(e))\n",
    "\n",
    "\n",
    "master._do_close()\n"
   ]
  },
  {
   "cell_type": "markdown",
   "metadata": {},
   "source": [
    "----\n",
    "\n",
    "## MQTT - 即時性應用\n",
    "\n",
    "已經可以採集資料了，來談談怎麼上傳雲端吧\n",
    "\n",
    "----\n"
   ]
  },
  {
   "cell_type": "markdown",
   "metadata": {},
   "source": [
    "### Mosquitto\n",
    "\n",
    "一個broker套件，當然也可以做為client使用\n",
    "\n",
    "- 以NB X260來說，4000多個連結沒有問題\n",
    "\n",
    "![Mosquitto](image/Eclipse-Mosquitto-logo.png)\n"
   ]
  },
  {
   "cell_type": "markdown",
   "metadata": {},
   "source": [
    "### paho\n",
    "\n",
    "便利的MQTT client端套件\n",
    "\n",
    "- [link](https://pypi.org/project/paho-mqtt/)\n",
    "- install: `pip install paho-mqtt`\n",
    "\n",
    "![paho](image/mqtt-paho-featured-image.jpg)\n"
   ]
  },
  {
   "cell_type": "markdown",
   "metadata": {},
   "source": [
    "### live demo\n",
    "\n",
    "- 以先架好的rpi3控制PLC為例\n"
   ]
  },
  {
   "cell_type": "code",
   "execution_count": 9,
   "metadata": {},
   "outputs": [
    {
     "name": "stdout",
     "output_type": "stream",
     "text": [
      "Connected flags{'session present': 0}, result code 0, client_id  <paho.mqtt.client.Client object at 0x70ccb4b0>\n",
      "set light off!\n",
      "Write(addr, value)=(2, 0)\n",
      "message received   0 malo-iot/light 0 1\n",
      "set light:  0\n",
      "Write(addr, value)=(2, 0)\n",
      "message received   0 malo-iot/light 0 0\n",
      "set light:  0\n",
      "Write(addr, value)=(2, 0)\n",
      "message received   1 malo-iot/light 0 0\n",
      "set light:  1\n",
      "Write(addr, value)=(2, 65280)\n",
      "message received   0 malo-iot/light 0 0\n",
      "set light:  0\n",
      "Write(addr, value)=(2, 0)\n",
      "message received   1 malo-iot/light 0 0\n",
      "set light:  1\n",
      "Write(addr, value)=(2, 65280)\n",
      "message received   0 malo-iot/light 0 0\n",
      "set light:  0\n",
      "Write(addr, value)=(2, 0)\n"
     ]
    },
    {
     "ename": "KeyboardInterrupt",
     "evalue": "",
     "output_type": "error",
     "traceback": [
      "\u001b[0;31m---------------------------------------------------------------------------\u001b[0m",
      "\u001b[0;31mKeyboardInterrupt\u001b[0m                         Traceback (most recent call last)",
      "\u001b[0;32m<ipython-input-9-4502b427f671>\u001b[0m in \u001b[0;36m<module>\u001b[0;34m()\u001b[0m\n\u001b[1;32m     72\u001b[0m \u001b[0mclient1\u001b[0m\u001b[0;34m.\u001b[0m\u001b[0msubscribe\u001b[0m\u001b[0;34m(\u001b[0m\u001b[0mtopic\u001b[0m\u001b[0;34m)\u001b[0m\u001b[0;34m\u001b[0m\u001b[0m\n\u001b[1;32m     73\u001b[0m \u001b[0;34m\u001b[0m\u001b[0m\n\u001b[0;32m---> 74\u001b[0;31m \u001b[0mclient1\u001b[0m\u001b[0;34m.\u001b[0m\u001b[0mloop_forever\u001b[0m\u001b[0;34m(\u001b[0m\u001b[0;34m)\u001b[0m\u001b[0;34m\u001b[0m\u001b[0m\n\u001b[0m",
      "\u001b[0;32m~/pyenv/my-jupyter-env/lib/python3.5/site-packages/paho/mqtt/client.py\u001b[0m in \u001b[0;36mloop_forever\u001b[0;34m(self, timeout, max_packets, retry_first_connection)\u001b[0m\n\u001b[1;32m   1576\u001b[0m             \u001b[0mrc\u001b[0m \u001b[0;34m=\u001b[0m \u001b[0mMQTT_ERR_SUCCESS\u001b[0m\u001b[0;34m\u001b[0m\u001b[0m\n\u001b[1;32m   1577\u001b[0m             \u001b[0;32mwhile\u001b[0m \u001b[0mrc\u001b[0m \u001b[0;34m==\u001b[0m \u001b[0mMQTT_ERR_SUCCESS\u001b[0m\u001b[0;34m:\u001b[0m\u001b[0;34m\u001b[0m\u001b[0m\n\u001b[0;32m-> 1578\u001b[0;31m                 \u001b[0mrc\u001b[0m \u001b[0;34m=\u001b[0m \u001b[0mself\u001b[0m\u001b[0;34m.\u001b[0m\u001b[0mloop\u001b[0m\u001b[0;34m(\u001b[0m\u001b[0mtimeout\u001b[0m\u001b[0;34m,\u001b[0m \u001b[0mmax_packets\u001b[0m\u001b[0;34m)\u001b[0m\u001b[0;34m\u001b[0m\u001b[0m\n\u001b[0m\u001b[1;32m   1579\u001b[0m                 \u001b[0;31m# We don't need to worry about locking here, because we've\u001b[0m\u001b[0;34m\u001b[0m\u001b[0;34m\u001b[0m\u001b[0m\n\u001b[1;32m   1580\u001b[0m                 \u001b[0;31m# either called loop_forever() when in single threaded mode, or\u001b[0m\u001b[0;34m\u001b[0m\u001b[0;34m\u001b[0m\u001b[0m\n",
      "\u001b[0;32m~/pyenv/my-jupyter-env/lib/python3.5/site-packages/paho/mqtt/client.py\u001b[0m in \u001b[0;36mloop\u001b[0;34m(self, timeout, max_packets)\u001b[0m\n\u001b[1;32m   1055\u001b[0m         \u001b[0mrlist\u001b[0m \u001b[0;34m=\u001b[0m \u001b[0;34m[\u001b[0m\u001b[0mself\u001b[0m\u001b[0;34m.\u001b[0m\u001b[0m_sock\u001b[0m\u001b[0;34m,\u001b[0m \u001b[0mself\u001b[0m\u001b[0;34m.\u001b[0m\u001b[0m_sockpairR\u001b[0m\u001b[0;34m]\u001b[0m\u001b[0;34m\u001b[0m\u001b[0m\n\u001b[1;32m   1056\u001b[0m         \u001b[0;32mtry\u001b[0m\u001b[0;34m:\u001b[0m\u001b[0;34m\u001b[0m\u001b[0m\n\u001b[0;32m-> 1057\u001b[0;31m             \u001b[0msocklist\u001b[0m \u001b[0;34m=\u001b[0m \u001b[0mselect\u001b[0m\u001b[0;34m.\u001b[0m\u001b[0mselect\u001b[0m\u001b[0;34m(\u001b[0m\u001b[0mrlist\u001b[0m\u001b[0;34m,\u001b[0m \u001b[0mwlist\u001b[0m\u001b[0;34m,\u001b[0m \u001b[0;34m[\u001b[0m\u001b[0;34m]\u001b[0m\u001b[0;34m,\u001b[0m \u001b[0mtimeout\u001b[0m\u001b[0;34m)\u001b[0m\u001b[0;34m\u001b[0m\u001b[0m\n\u001b[0m\u001b[1;32m   1058\u001b[0m         \u001b[0;32mexcept\u001b[0m \u001b[0mTypeError\u001b[0m\u001b[0;34m:\u001b[0m\u001b[0;34m\u001b[0m\u001b[0m\n\u001b[1;32m   1059\u001b[0m             \u001b[0;31m# Socket isn't correct type, in likelihood connection is lost\u001b[0m\u001b[0;34m\u001b[0m\u001b[0;34m\u001b[0m\u001b[0m\n",
      "\u001b[0;31mKeyboardInterrupt\u001b[0m: "
     ]
    }
   ],
   "source": [
    "import paho.mqtt.client as mqtt  #import the client1\n",
    "import time\n",
    "\n",
    "import serial\n",
    "import modbus_tk\n",
    "import modbus_tk.defines as cst\n",
    "import modbus_tk.modbus_rtu as modbus_rtu\n",
    "import time\n",
    "\n",
    "mbComPort = '/dev/ttyUSB0'\n",
    "baudrate = 9600\n",
    "databit = 8\n",
    "parity = 'N'\n",
    "stopbit = 1\n",
    "mbTimeout = 100 # ms\n",
    "\n",
    "def on_connect(client, userdata, flags, rc):\n",
    "    m=\"Connected flags\"+str(flags)+\", result code \"+str(rc)+\", client_id  \"+str(client)\n",
    "    print(m)\n",
    "\n",
    "    # first value OFF\n",
    "    print('set light off!')\n",
    "    control_light(0)\n",
    "    client1.publish(topic,0)    \n",
    "\n",
    "def on_message(client1, userdata, message):\n",
    "    print(\"message received  \"  ,str(message.payload.decode(\"utf-8\")), message.topic, message.qos, message.retain)\n",
    "    if message.topic == topic:\n",
    "        my_message = str(message.payload.decode(\"utf-8\"))\n",
    "        print(\"set light: \", my_message)\n",
    "        if my_message=='1' or my_message==1:\n",
    "            control_light(1)\n",
    "        else:\n",
    "            control_light(0)\n",
    "\n",
    "def on_log(client, userdata, level, buf):\n",
    "    print(\"log: \",buf)\n",
    "\n",
    "def control_light(value):\n",
    "    mb_port = serial.Serial(port=mbComPort, baudrate=baudrate, bytesize=databit, parity=parity, stopbits=stopbit)\n",
    "    master = modbus_rtu.RtuMaster(mb_port)\n",
    "    master.set_timeout(mbTimeout/1000.0)\n",
    "\n",
    "    mbId = 1\n",
    "    addr = 2 #base0\n",
    "\n",
    "    try:\n",
    "        #-- FC5: write multi-coils\n",
    "        rr = master.execute(mbId, cst.WRITE_SINGLE_COIL, addr, output_value=value)\n",
    "        print(\"Write(addr, value)=%s\" %(str(rr)))\n",
    "\n",
    "    except Exception as e:#except Exception, e:\n",
    "        print(\"modbus test Error: \" + str(e))\n",
    "\n",
    "    master._do_close()\n",
    "\n",
    "\n",
    "# some online free broker:\n",
    "#   iot.eclipse.org\n",
    "#   test.mosquitto.org\n",
    "#   broker.hivemq.com\n",
    "broker_address=\"iot.eclipse.org\"\n",
    "topic = \"malo-iot/light\"\n",
    "client1 = mqtt.Client()    #create new instance\n",
    "client1.on_connect = on_connect        #attach function to callback\n",
    "client1.on_message = on_message        #attach function to callback\n",
    "#client1.on_log=on_log\n",
    "\n",
    "time.sleep(1)\n",
    "client1.connect(\"iot.eclipse.org\", 1883, 60)      #connect to broker\n",
    "#client1.loop_start()    #start the loop\n",
    "client1.subscribe(topic)\n",
    "\n",
    "client1.loop_forever()"
   ]
  },
  {
   "cell_type": "markdown",
   "metadata": {},
   "source": [
    "----\n",
    "\n",
    "## The End!!\n",
    "\n",
    "----\n"
   ]
  },
  {
   "cell_type": "markdown",
   "metadata": {},
   "source": [
    "----\n",
    "\n",
    "## Q&A\n",
    "\n",
    "----"
   ]
  }
 ],
 "metadata": {
  "celltoolbar": "Slideshow",
  "kernelspec": {
   "display_name": "Python 3",
   "language": "python",
   "name": "python3"
  },
  "language_info": {
   "codemirror_mode": {
    "name": "ipython",
    "version": 3
   },
   "file_extension": ".py",
   "mimetype": "text/x-python",
   "name": "python",
   "nbconvert_exporter": "python",
   "pygments_lexer": "ipython3",
   "version": "3.7.0"
  }
 },
 "nbformat": 4,
 "nbformat_minor": 2
}

{
 "cells": [
  {
   "cell_type": "markdown",
   "metadata": {
    "slideshow": {
     "slide_type": "slide"
    }
   },
   "source": [
    "# IIOT 工業4.0 - 以 Python 實作工廠監控"
   ]
  },
  {
   "cell_type": "markdown",
   "metadata": {
    "slideshow": {
     "slide_type": "slide"
    }
   },
   "source": [
    "## 自我介紹\n",
    "\n",
    "- Malo, 高雄Python社群共同創辨人\n",
    "- 目前工作為太陽能監控系統開發\n",
    "- 韌體工程師 --> 全端工程師"
   ]
  },
  {
   "cell_type": "markdown",
   "metadata": {
    "slideshow": {
     "slide_type": "slide"
    }
   },
   "source": [
    "# Agenda\n",
    "\n",
    "- 工廠監控\n",
    "\n",
    "    - 今天的主軸：如何在Raspberry Pi上使用python和PLC、電表溝通, 並把資料送上雲端\n",
    "\n",
    "- Modbus\n",
    "    - 何謂Modbus?\n",
    "    - modbus格式介紹\n",
    "    - modbus常被採用的原因\n",
    "        \n",
    "- Modbus套件\n",
    "    - 可用的套件\n",
    "    - 安裝\n",
    "    - 操作\n",
    "\n",
    "- PLC\n",
    "    - 何謂PLC\n",
    "    - 如何通訊、控制\n",
    "    - 來看看PLC的Modbus點表\n",
    "    - Live Demo\n",
    "\n",
    "\n"
   ]
  },
  {
   "cell_type": "markdown",
   "metadata": {
    "slideshow": {
     "slide_type": "subslide"
    }
   },
   "source": [
    "- Power Meter\n",
    "    - 何謂power meter\n",
    "    - 來看看Power Meter的點表\n",
    "    - Live Demo\n",
    "    \n",
    "- MQTT - 即時性應用\n",
    "    - Mosquitto\n",
    "    - paho\n",
    "    \n",
    "- The End!?\n",
    " \n",
    "- Q&A\n",
    "\n",
    "----"
   ]
  },
  {
   "cell_type": "markdown",
   "metadata": {
    "slideshow": {
     "slide_type": "slide"
    }
   },
   "source": [
    "## 工廠監控\n",
    "\n",
    "----\n"
   ]
  },
  {
   "cell_type": "markdown",
   "metadata": {
    "slideshow": {
     "slide_type": "slide"
    }
   },
   "source": [
    "### 今天的主軸：如何使用python和PLC、電表、逆變器溝通, 並把資料送上雲端\n",
    "\n",
    "- 範例可以在windows、Linux、Raspberry pi、BeagleBone Black上執行\n",
    "    \n",
    "- ![PLC_Meter](image/plc_meter.png)"
   ]
  },
  {
   "cell_type": "markdown",
   "metadata": {
    "slideshow": {
     "slide_type": "slide"
    }
   },
   "source": [
    "## Live Demo\n",
    "\n",
    "先來看看我們使用Python可以達到的效果\n",
    "\n",
    "- Python + PLC + Power Meter + MQTT + Linear MQTT Dashboard\n",
    "\n",
    "![mqtt](image/mqtt.png)"
   ]
  },
  {
   "cell_type": "markdown",
   "metadata": {
    "slideshow": {
     "slide_type": "slide"
    }
   },
   "source": [
    "----\n",
    "\n",
    "## 工廠監控的現況\n",
    "\n",
    "先看看業界現在怎麼做…\n",
    "\n",
    "----"
   ]
  },
  {
   "cell_type": "markdown",
   "metadata": {
    "slideshow": {
     "slide_type": "subslide"
    }
   },
   "source": [
    "\n",
    "### 很常見的方式\n",
    "\n",
    "- SCADA + HMI + PLC + IO module\n",
    "\n",
    "- PLC + SCADA\n"
   ]
  },
  {
   "cell_type": "markdown",
   "metadata": {
    "slideshow": {
     "slide_type": "subslide"
    }
   },
   "source": [
    "### 系統小一點的話\n",
    "\n",
    "- HMI + PLC + IO module\n",
    "\n"
   ]
  },
  {
   "cell_type": "markdown",
   "metadata": {
    "slideshow": {
     "slide_type": "subslide"
    }
   },
   "source": [
    "\n",
    "### 喜歡自已來!?\n",
    "\n",
    "- 當然是自己開發囉! VB.Net, C#, C 各種語言不拘!"
   ]
  },
  {
   "cell_type": "markdown",
   "metadata": {
    "slideshow": {
     "slide_type": "subslide"
    }
   },
   "source": [
    "\n",
    "### 為何SCADA這麼常出現?\n",
    "\n",
    "- 因為工業控制需要快速又穩定的RAD工具，讓每個人都能做出一定水準之上的系統\n",
    "\n",
    "![Scada_std_anim_no_lang](image/Scada_std_anim_no_lang.gif)\n"
   ]
  },
  {
   "cell_type": "markdown",
   "metadata": {
    "slideshow": {
     "slide_type": "slide"
    }
   },
   "source": [
    "----\n",
    "\n",
    "## Modbus\n",
    "\n",
    "一個工業控制一定不能錯過的協定\n",
    "\n",
    "----\n"
   ]
  },
  {
   "cell_type": "markdown",
   "metadata": {
    "slideshow": {
     "slide_type": "subslide"
    }
   },
   "source": [
    "### 何謂 Modbus?\n",
    "一種工業控制中很常用的通訊協定\n",
    "\n",
    "- 為何介紹Modbus\n",
    "\n",
    "![協定文字雲](image/protocol_cloud.png)\n",
    "       "
   ]
  },
  {
   "cell_type": "markdown",
   "metadata": {
    "slideshow": {
     "slide_type": "subslide"
    }
   },
   "source": [
    "### modbus格式介紹 \n",
    "\n",
    "[參考](http://gridconnect.com/blog/tag/modbus-rtu/)\n",
    "\n",
    "- Modbus/RTU: [start time] [Address 8bits + Function 8bits + Data Nx8bits + CRC 16bits] [End time]\n",
    "\n",
    "- Modbus/TCP: [header 6byte + Address 8bits + Function 8bits + Data Nx8bits]\n",
    "\n",
    "- Modbus/ASCII: 現在比較少人用，跳過不講\n",
    "\n",
    "![格式](image/MODBUS-Frame.png)\n",
    "        \n"
   ]
  },
  {
   "cell_type": "markdown",
   "metadata": {
    "slideshow": {
     "slide_type": "subslide"
    }
   },
   "source": [
    "### modbus常被採用的原因\n",
    "        \n",
    "- 公開發表並且無版稅要求\n",
    "\n",
    "- 相對容易的工業網路部署\n",
    "\n",
    "- 協定格式簡單，極省資源\n"
   ]
  },
  {
   "cell_type": "markdown",
   "metadata": {
    "slideshow": {
     "slide_type": "slide"
    }
   },
   "source": [
    "----\n",
    "\n",
    "## Modbus套件\n",
    "\n",
    "----\n"
   ]
  },
  {
   "cell_type": "markdown",
   "metadata": {
    "slideshow": {
     "slide_type": "subslide"
    }
   },
   "source": [
    "\n",
    "### 網路上較多人提到的三個套件\n",
    "\n",
    "[performance比較](https://stackoverflow.com/questions/17081442/python-modbus-library)\n",
    "\n",
    "- modbus-tk: Modbus/RTU, Modbus/TCP\n",
    "\n",
    "- pymodbus: 據說實作最完整，但使用資源相對的多，相依套件也多\n",
    "\n",
    "- MinimalModbus: Modbus/RTU, Modbus/ASCII\n",
    "\n"
   ]
  },
  {
   "cell_type": "markdown",
   "metadata": {
    "slideshow": {
     "slide_type": "subslide"
    }
   },
   "source": [
    "### Modbus-tk\n",
    "\n",
    "個人推薦使用\n",
    "\n",
    "- 安裝方式\n",
    "    - pip install serial\n",
    "    - pip install modbus_tk\n",
    "\n",
    "- 操作\n",
    "    - [Python與PLC共舞](https://github.com/maloyang/PLC-Python)\n",
    "     "
   ]
  },
  {
   "cell_type": "markdown",
   "metadata": {
    "slideshow": {
     "slide_type": "slide"
    }
   },
   "source": [
    "----\n",
    "\n",
    "## PLC\n",
    "\n",
    "工業控制常用的元素，[看看wiki怎麼說](https://zh.wikipedia.org/wiki/%E5%8F%AF%E7%BC%96%E7%A8%8B%E9%80%BB%E8%BE%91%E6%8E%A7%E5%88%B6%E5%99%A8)\n",
    "\n",
    "----\n"
   ]
  },
  {
   "cell_type": "markdown",
   "metadata": {
    "slideshow": {
     "slide_type": "subslide"
    }
   },
   "source": [
    "\n",
    "### 通訊方式\n",
    "\n",
    "- 自有協定\n",
    "\n",
    "- <h3>Modbus</h3>\n",
    "\n",
    "- CAN\n",
    "\n",
    "- ...etc\n"
   ]
  },
  {
   "cell_type": "markdown",
   "metadata": {
    "slideshow": {
     "slide_type": "subslide"
    }
   },
   "source": [
    "### PLC的Modbus點表\n",
    "\n",
    "![PLC點表](image/fatek_modbus_addr.png)\n"
   ]
  },
  {
   "cell_type": "markdown",
   "metadata": {
    "slideshow": {
     "slide_type": "slide"
    }
   },
   "source": [
    "### live demo code : PLC\n",
    "- [Live Demo](Modbus.ipynb)"
   ]
  },
  {
   "cell_type": "code",
   "execution_count": 1,
   "metadata": {
    "slideshow": {
     "slide_type": "subslide"
    }
   },
   "outputs": [],
   "source": [
    "import serial\n",
    "import modbus_tk\n",
    "import modbus_tk.defines as cst\n",
    "import modbus_tk.modbus_rtu as modbus_rtu\n",
    "import time\n"
   ]
  },
  {
   "cell_type": "code",
   "execution_count": 2,
   "metadata": {
    "slideshow": {
     "slide_type": "subslide"
    }
   },
   "outputs": [],
   "source": [
    "mbComPort = \"COM8\"   # your RS-485 port. for linux --> \"/dev/ttyUSB0\"\n",
    "baudrate = 9600\n",
    "databit = 8 #7, 8\n",
    "parity = 'N' #N, O, E\n",
    "stopbit = 1 #1, 2\n",
    "mbTimeout = 100 # ms\n"
   ]
  },
  {
   "cell_type": "code",
   "execution_count": 3,
   "metadata": {
    "slideshow": {
     "slide_type": "subslide"
    }
   },
   "outputs": [
    {
     "name": "stdout",
     "output_type": "stream",
     "text": [
      "Write(addr, value)= (2, 0)\n",
      "Write(addr, value)= (2, 65280)\n",
      "Write(addr, value)= (2, 0)\n",
      "Write(addr, value)= (2, 65280)\n",
      "Write(addr, value)= (2, 0)\n"
     ]
    },
    {
     "data": {
      "text/plain": [
       "True"
      ]
     },
     "execution_count": 3,
     "metadata": {},
     "output_type": "execute_result"
    }
   ],
   "source": [
    "\n",
    "mb_port = serial.Serial(port=mbComPort, baudrate=baudrate, bytesize=databit, parity=parity, stopbits=stopbit)\n",
    "master = modbus_rtu.RtuMaster(mb_port)\n",
    "master.set_timeout(mbTimeout/1000.0)\n",
    "\n",
    "mbId = 1\n",
    "addr = 2 #base0 --> my 110V Led燈泡\n",
    "\n",
    "for i in range(5):\n",
    "    try:\n",
    "        value = i%2\n",
    "        #-- FC5: write multi-coils\n",
    "        rr = master.execute(mbId, cst.WRITE_SINGLE_COIL, addr, output_value=value)\n",
    "        print(\"Write(addr, value)=\",  rr)\n",
    "\n",
    "    except Exception as e:\n",
    "        print(\"modbus test Error: \" + str(e))\n",
    "\n",
    "    time.sleep(2)\n",
    "\n",
    "master._do_close()\n"
   ]
  },
  {
   "cell_type": "markdown",
   "metadata": {
    "slideshow": {
     "slide_type": "slide"
    }
   },
   "source": [
    "----\n",
    "\n",
    "## Power Meter\n",
    "\n",
    "電力監控常見的元素\n",
    "\n",
    "----\n"
   ]
  },
  {
   "cell_type": "markdown",
   "metadata": {
    "slideshow": {
     "slide_type": "subslide"
    }
   },
   "source": [
    "\n",
    "### Power Meter的點表\n",
    "\n",
    "![Power Meter的點表](image/power_meter.gif)\n",
    "\n"
   ]
  },
  {
   "cell_type": "markdown",
   "metadata": {
    "slideshow": {
     "slide_type": "subslide"
    }
   },
   "source": [
    "### Power Meter的浮點數表示方式\n",
    "\n",
    "![float](image/mb_float.png)\n"
   ]
  },
  {
   "cell_type": "markdown",
   "metadata": {
    "slideshow": {
     "slide_type": "slide"
    }
   },
   "source": [
    "### live demo code: power meter\n",
    "\n",
    "- [Live Demo](Modbus.ipynb)"
   ]
  },
  {
   "cell_type": "code",
   "execution_count": 4,
   "metadata": {
    "slideshow": {
     "slide_type": "subslide"
    }
   },
   "outputs": [],
   "source": [
    "import serial\n",
    "import modbus_tk\n",
    "import modbus_tk.defines as cst\n",
    "import modbus_tk.modbus_rtu as modbus_rtu\n",
    "import time\n",
    "from struct import *"
   ]
  },
  {
   "cell_type": "code",
   "execution_count": 5,
   "metadata": {
    "slideshow": {
     "slide_type": "subslide"
    }
   },
   "outputs": [],
   "source": [
    "mbComPort = 'COM8' #your RS-485 port #'/dev/ttyUSB0' for linux(RPi3)\n",
    "baudrate = 9600\n",
    "databit = 8\n",
    "parity = 'N'\n",
    "stopbit = 1\n",
    "mbTimeout = 100 # ms"
   ]
  },
  {
   "cell_type": "code",
   "execution_count": 6,
   "metadata": {
    "scrolled": true,
    "slideshow": {
     "slide_type": "subslide"
    }
   },
   "outputs": [
    {
     "name": "stdout",
     "output_type": "stream",
     "text": [
      "read value: (39507, 17124)\n",
      "v_a= (114.3014144897461,)\n"
     ]
    },
    {
     "data": {
      "text/plain": [
       "True"
      ]
     },
     "execution_count": 6,
     "metadata": {},
     "output_type": "execute_result"
    }
   ],
   "source": [
    "mb_port = serial.Serial(port=mbComPort, baudrate=baudrate, bytesize=databit, parity=parity, stopbits=stopbit)\n",
    "master = modbus_rtu.RtuMaster(mb_port)\n",
    "master.set_timeout(mbTimeout/1000.0)\n",
    "\n",
    "mbId = 4\n",
    "addr = 0x1000 # power-meter is base 0\n",
    "# notice: meter not support FC6, only FC16\n",
    "\n",
    "try:\n",
    "    # FC3\n",
    "    rr = master.execute(mbId, cst.READ_INPUT_REGISTERS, addr, 2)\n",
    "    print('read value:', rr)\n",
    "\n",
    "    # convert to float:\n",
    "    # IEEE754 ==> (Hi word Hi Bite, Hi word Lo Byte, Lo word Hi Byte, Lo word Lo Byte)\n",
    "    try:\n",
    "        v_a_hi = rr[1]\n",
    "        v_a_lo = rr[0]\n",
    "        v_a = unpack('>f', pack('>HH', v_a_hi, v_a_lo))\n",
    "        print('v_a=', v_a)\n",
    "        #struct.unpack(\">f\",'\\x42\\xd8\\x6b\\x8d')\n",
    "    except Exception as e:\n",
    "        print(e)\n",
    "\n",
    "except Exception as e:\n",
    "    print(\"modbus test Error: \" + str(e))\n",
    "\n",
    "\n",
    "master._do_close()\n"
   ]
  },
  {
   "cell_type": "markdown",
   "metadata": {
    "slideshow": {
     "slide_type": "subslide"
    }
   },
   "source": [
    "### 讀回電錶的功率"
   ]
  },
  {
   "cell_type": "code",
   "execution_count": 7,
   "metadata": {
    "scrolled": true,
    "slideshow": {
     "slide_type": "subslide"
    }
   },
   "outputs": [
    {
     "name": "stdout",
     "output_type": "stream",
     "text": [
      "read value: (3077, 18333)\n",
      "kWh= (80408.0390625,)\n"
     ]
    },
    {
     "data": {
      "text/plain": [
       "True"
      ]
     },
     "execution_count": 7,
     "metadata": {},
     "output_type": "execute_result"
    }
   ],
   "source": [
    "mb_port = serial.Serial(port=mbComPort, baudrate=baudrate, bytesize=databit, parity=parity, stopbits=stopbit)\n",
    "master = modbus_rtu.RtuMaster(mb_port)\n",
    "master.set_timeout(mbTimeout/1000.0)\n",
    "\n",
    "mbId = 4\n",
    "addr = 0x1034 #kWh\n",
    "\n",
    "try:\n",
    "    # FC3\n",
    "    rr = master.execute(mbId, cst.READ_INPUT_REGISTERS, addr, 2)\n",
    "    print('read value:', rr)\n",
    "\n",
    "    # convert to float:\n",
    "    # IEEE754 ==> (Hi word Hi Bite, Hi word Lo Byte, Lo word Hi Byte, Lo word Lo Byte)\n",
    "    try:\n",
    "        hi = rr[1]\n",
    "        lo = rr[0]\n",
    "        kwh = unpack('>f', pack('>HH', hi, lo))\n",
    "        print('kWh=', kwh)\n",
    "    except Exception as e:\n",
    "        print(e)\n",
    "\n",
    "except Exception as e:\n",
    "    print(\"modbus test Error: \" + str(e))\n",
    "\n",
    "\n",
    "master._do_close()\n"
   ]
  },
  {
   "cell_type": "markdown",
   "metadata": {
    "slideshow": {
     "slide_type": "slide"
    }
   },
   "source": [
    "----\n",
    "\n",
    "## MQTT - 即時性應用\n",
    "\n",
    "已經可以採集資料了，來談談怎麼上傳雲端吧\n",
    "\n",
    "----\n"
   ]
  },
  {
   "cell_type": "markdown",
   "metadata": {
    "slideshow": {
     "slide_type": "subslide"
    }
   },
   "source": [
    "### Mosquitto\n",
    "\n",
    "一個broker套件，當然也可以做為client使用\n",
    "\n",
    "- 以NB X260來說，4000多個連結沒有問題\n",
    "\n",
    "![Mosquitto](image/Eclipse-Mosquitto-logo.png)\n"
   ]
  },
  {
   "cell_type": "markdown",
   "metadata": {
    "slideshow": {
     "slide_type": "subslide"
    }
   },
   "source": [
    "### paho\n",
    "\n",
    "便利的MQTT client端套件\n",
    "\n",
    "- [link](https://pypi.org/project/paho-mqtt/)\n",
    "- install: `pip install paho-mqtt`\n",
    "\n",
    "![paho](image/mqtt-paho-featured-image.jpg)\n"
   ]
  },
  {
   "cell_type": "markdown",
   "metadata": {
    "slideshow": {
     "slide_type": "slide"
    }
   },
   "source": [
    "### live demo\n",
    "\n",
    "- 雲端控制PLC為例\n"
   ]
  },
  {
   "cell_type": "code",
   "execution_count": null,
   "metadata": {
    "slideshow": {
     "slide_type": "subslide"
    }
   },
   "outputs": [],
   "source": [
    "#!/usr/bin/python\n",
    "# -*- coding: utf-8 -*-\n",
    "import paho.mqtt.client as mqtt  #import the client1\n",
    "import time\n",
    "\n",
    "import serial\n",
    "import modbus_tk\n",
    "import modbus_tk.defines as cst\n",
    "import modbus_tk.modbus_rtu as modbus_rtu\n",
    "import time\n",
    "from struct import *\n",
    "import random\n",
    "\n",
    "mbComPort = 'COM8' # for linux: '/dev/ttyUSB0'\n",
    "baudrate = 9600\n",
    "databit = 8\n",
    "parity = 'N'\n",
    "stopbit = 1\n",
    "mbTimeout = 100 # ms\n",
    "\n",
    "def on_connect(client, userdata, flags, rc):\n",
    "    m=\"Connected flags\"+str(flags)+\", result code \"+str(rc)+\", client_id  \"+str(client)\n",
    "    print(m)\n",
    "\n",
    "    # first value OFF\n",
    "    print('set light off!')\n",
    "    control_light(0)\n",
    "    client1.publish(topic,0)    \n",
    "\n",
    "def on_message(client1, userdata, message):\n",
    "    print(\"message received  \"  ,str(message.payload.decode(\"utf-8\")), message.topic, message.qos, message.retain)\n",
    "    if message.topic == topic:\n",
    "        my_message = str(message.payload.decode(\"utf-8\"))\n",
    "        print(\"set light: \", my_message)\n",
    "        if my_message=='1' or my_message==1:\n",
    "            control_light(1)\n",
    "        else:\n",
    "            control_light(0)\n",
    "\n",
    "def on_log(client, userdata, level, buf):\n",
    "    print(\"log: \",buf)\n",
    "\n",
    "def control_light(value):\n",
    "    mb_port = serial.Serial(port=mbComPort, baudrate=baudrate, bytesize=databit, parity=parity, stopbits=stopbit)\n",
    "    master = modbus_rtu.RtuMaster(mb_port)\n",
    "    master.set_timeout(mbTimeout/1000.0)\n",
    "\n",
    "    mbId = 1\n",
    "    addr = 2 #base0\n",
    "\n",
    "    try:\n",
    "        #-- FC5: write multi-coils\n",
    "        rr = master.execute(mbId, cst.WRITE_SINGLE_COIL, addr, output_value=value)\n",
    "        print(\"Write(addr, value)=%s\" %(str(rr)))\n",
    "\n",
    "    except Exception as e:#Exception, e:\n",
    "        print(\"modbus test Error: \" + str(e))\n",
    "\n",
    "    master._do_close()\n",
    "\n",
    "\n",
    "def read_power_meter():\n",
    "    mb_port = serial.Serial(port=mbComPort, baudrate=baudrate, bytesize=databit, parity=parity, stopbits=stopbit)\n",
    "    master = modbus_rtu.RtuMaster(mb_port)\n",
    "    master.set_timeout(mbTimeout/1000.0)\n",
    "\n",
    "    mbId = 4\n",
    "    #[0x1000-0x1001]=VIn_a\n",
    "    addr = 0x1000#4096\n",
    "\n",
    "    v_a = None\n",
    "    try:\n",
    "        # FC3\n",
    "        rr = master.execute(mbId, cst.READ_INPUT_REGISTERS, addr, 4)\n",
    "        print('read value:', rr)\n",
    "\n",
    "        # convert to float:\n",
    "        # IEEE754 ==> (Hi word Hi Bite, Hi word Lo Byte, Lo word Hi Byte, Lo word Lo Byte)\n",
    "        try:\n",
    "            v_a_hi = rr[1]\n",
    "            v_a_lo = rr[0]\n",
    "            v_a = unpack('>f', pack('>HH', v_a_hi, v_a_lo))\n",
    "            print('v_a=', v_a)\n",
    "        except Exception as e:#Exception, e:\n",
    "            print(e)\n",
    "    except Exception as e:#Exception, e:\n",
    "        print(\"modbus test Error: \" + str(e))\n",
    "\n",
    "    master._do_close()\n",
    "    if v_a==None:\n",
    "        v_a=None\n",
    "    else:\n",
    "        v_a=v_a[0]\n",
    "    return v_a\n",
    "\n",
    "# some online free broker:\n",
    "#   iot.eclipse.org\n",
    "#   test.mosquitto.org\n",
    "#   broker.hivemq.com\n",
    "broker_address= 'broker.hivemq.com' # \"iot.eclipse.org\"\n",
    "topic = \"malo-iot/light\"\n",
    "client1 = mqtt.Client()    #create new instance\n",
    "client1.on_connect = on_connect        #attach function to callback\n",
    "client1.on_message = on_message        #attach function to callback\n",
    "#client1.on_log=on_log\n",
    "\n",
    "time.sleep(1)\n",
    "client1.connect(broker_address, 1883, 60)      #connect to broker\n",
    "client1.subscribe(topic)\n",
    "\n",
    "#client1.loop_forever()\n",
    "# 有自己的while loop，所以call loop_start()，不用loop_forever\n",
    "client1.loop_start()    #start the loop\n",
    "time.sleep(2)\n",
    "print(\"loop start\")\n",
    "\n",
    "while True:\n",
    "    #v = read_power_meter()\n",
    "    #print('V=%s, type(V)=%s' %(v, type(v)))\n",
    "    \n",
    "    v = random.randint(110, 115)\n",
    "    client1.publish(\"malo-iot/voltage\", v)\n",
    "    time.sleep(2)\n"
   ]
  },
  {
   "cell_type": "markdown",
   "metadata": {
    "slideshow": {
     "slide_type": "slide"
    }
   },
   "source": [
    "----\n",
    "\n",
    "## The End!!\n",
    "\n",
    "----\n"
   ]
  },
  {
   "cell_type": "markdown",
   "metadata": {
    "slideshow": {
     "slide_type": "slide"
    }
   },
   "source": [
    "----\n",
    "\n",
    "## Q&A\n",
    "\n",
    "----"
   ]
  },
  {
   "cell_type": "markdown",
   "metadata": {
    "slideshow": {
     "slide_type": "slide"
    }
   },
   "source": [
    "### 補充資料"
   ]
  },
  {
   "cell_type": "markdown",
   "metadata": {
    "slideshow": {
     "slide_type": "slide"
    }
   },
   "source": [
    "## 太陽能電廠監控\n",
    "----\n",
    "![inv2cloud](image/inv2cloud.png)"
   ]
  },
  {
   "cell_type": "code",
   "execution_count": null,
   "metadata": {
    "slideshow": {
     "slide_type": "subslide"
    }
   },
   "outputs": [],
   "source": [
    "def read_inv(mb_id=1, port='/dev/ttyUSB0', br=9600, databit=8, parity='N', stopbit=1, timeout=1000):\n",
    "    data = {'time':time.strftime(\"%Y-%m-%d %H:%M:%S\"), 'total_energy':0, 't':[0], 'ac_vawf':[0,0,0,0],\n",
    "        'dc_vaw':[0,0,0], 'error':[0]}\n",
    "\n",
    "    try:\n",
    "        mb_port = serial.Serial(port=port, baudrate=br, bytesize=databit, parity=parity, stopbits=stopbit)\n",
    "        master = modbus_rtu.RtuMaster(mb_port)\n",
    "        master.set_timeout(timeout/1000.0)\n",
    "\n",
    "        #-- start to poll\n",
    "        addr = 132-1\n",
    "        # 132, 0: 2B, Daily Energy, Wh (IEEE32 float)\n",
    "        # 134, 2: 2B, Total Energy, kWh\n",
    "        # 144, 12: 2B, AC Voltage, V\n",
    "        # 146, 14: 2B, AC Current, A\n",
    "        # 148, 16: 2B, AC Power, W\n",
    "        # 150, 18: 2B, AC Frequency, Hz\n",
    "        # 152, 20: 2B, DC Power 1, W\n",
    "        # 154, 22: 2B, DC Voltage 1, v\n",
    "        # 156, 24: 2B, DC Current 1, A\n",
    "        # 158, 26: 2B, DC Power 2, W\n",
    "        # 160, 28: 2B, DC Voltage 2, V\n",
    "        # 162, 30: 2B, DC Current 2, A\n",
    "        # 164, 32: 2B, Temperature, oC\n",
    "        for j in range(3): \n",
    "            try:\n",
    "                rr = master.execute(mb_id, cst.ANALOG_INPUTS, addr, 34)\n",
    "\n",
    "                today_energy = unpack('>f', pack('>HH', rr[1], rr[0]))[0]/1000\n",
    "\n",
    "                ac_v = unpack('>f', pack('>HH', rr[13], rr[12]))[0]\n",
    "                ac_a = unpack('>f', pack('>HH', rr[15], rr[14]))[0]\n",
    "                ac_w = unpack('>f', pack('>HH', rr[17], rr[16]))[0]\n",
    "                ac_f = unpack('>f', pack('>HH', rr[19], rr[18]))[0]\n",
    "\n",
    "                dc_w = unpack('>f', pack('>HH', rr[21], rr[20]))[0]\n",
    "                dc_v = unpack('>f', pack('>HH', rr[23], rr[22]))[0]\n",
    "                dc_a = unpack('>f', pack('>HH', rr[25], rr[24]))[0]\n",
    "                dc_w2 = unpack('>f', pack('>HH', rr[27], rr[26]))[0]\n",
    "                dc_v2 = unpack('>f', pack('>HH', rr[29], rr[28]))[0]\n",
    "                dc_a2 = unpack('>f', pack('>HH', rr[31], rr[30]))[0]\n",
    "                \n",
    "                data['today_energy'] = today_energy # kWh\n",
    "                #- ac_vawf (for R, S, T)\n",
    "                data['ac_vawf'] = [ac_v, ac_a, ac_w, ac_f] # V, A, W, Hz\n",
    "                #- dc_vaw, (for MPPT1, MPPT2)\n",
    "                data['dc_vaw'] = [dc_v, dc_a, dc_w, dc_v2, dc_a2, dc_w2] # V, A, W\n",
    "                \n",
    "                break #success-->exit to next\n",
    "            except Exception as e:\n",
    "                print('poll all error', e)\n",
    "\n",
    "        master._do_close()\n",
    "    except Exception as e:\n",
    "        print(\"Error: \" + str(e))\n",
    "\n",
    "    return data\n",
    "\n",
    "# some online free broker:\n",
    "#   iot.eclipse.org\n",
    "#   test.mosquitto.org\n",
    "#   broker.hivemq.com\n",
    "broker_address= 'broker.hivemq.com' # \"iot.eclipse.org\"\n",
    "topic = \"malo-iot/light\"\n",
    "client1 = mqtt.Client()    #create new instance\n",
    "#client1.on_connect = on_connect        #attach function to callback\n",
    "#client1.on_message = on_message        #attach function to callback\n",
    "#client1.on_log=on_log\n",
    "\n",
    "time.sleep(1)\n",
    "client1.connect(broker_address, 1883, 60)      #connect to broker\n",
    "client1.subscribe(topic)\n",
    "\n",
    "#client1.loop_forever()\n",
    "# 有自己的while loop，所以call loop_start()，不用loop_forever\n",
    "client1.loop_start()    #start the loop\n",
    "time.sleep(2)\n",
    "print(\"loop start\")\n",
    "\n",
    "if True:#while True:\n",
    "    #v = read_power_meter()\n",
    "    #print('V=%s, type(V)=%s' %(v, type(v)))\n",
    "    \n",
    "    #v = random.randint(110, 115)\n",
    "    #client1.publish(\"malo-iot/voltage\", v)\n",
    "\n",
    "    inv_data = read_inv(22, 'COM6')\n",
    "    print('inv_data: ', inv_data)\n",
    "    client1.publish(\"malo-iot/today_energy\", round(inv_data['today_energy'], 2))\n",
    "    client1.publish(\"malo-iot/ac_v\", round(inv_data['ac_vawf'][0], 2))\n",
    "    client1.publish(\"malo-iot/ac_a\", round(inv_data['ac_vawf'][1], 2))\n",
    "    client1.publish(\"malo-iot/ac_w\", round(inv_data['ac_vawf'][2], 2))\n",
    "    client1.publish(\"malo-iot/ac_f\", round(inv_data['ac_vawf'][3], 2))\n",
    "\n",
    "    time.sleep(2)\n"
   ]
  },
  {
   "cell_type": "markdown",
   "metadata": {},
   "source": []
  }
 ],
 "metadata": {
  "celltoolbar": "Slideshow",
  "kernelspec": {
   "display_name": "Python 3",
   "language": "python",
   "name": "python3"
  },
  "language_info": {
   "codemirror_mode": {
    "name": "ipython",
    "version": 3
   },
   "file_extension": ".py",
   "mimetype": "text/x-python",
   "name": "python",
   "nbconvert_exporter": "python",
   "pygments_lexer": "ipython3",
   "version": "3.7.0"
  }
 },
 "nbformat": 4,
 "nbformat_minor": 2
}
